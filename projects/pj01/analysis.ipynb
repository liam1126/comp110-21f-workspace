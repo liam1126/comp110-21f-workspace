{
 "cells": [
  {
   "cell_type": "markdown",
   "metadata": {},
   "source": [
    "# Hypothesis: I think students that report more hours spent using technology for personal use are more likely to find COMP110 difficult."
   ]
  },
  {
   "cell_type": "code",
   "execution_count": 15,
   "metadata": {},
   "outputs": [],
   "source": [
    "__author__ = \"730323188\""
   ]
  },
  {
   "cell_type": "markdown",
   "metadata": {},
   "source": [
    "### I am told the cell below is used to automatically reload changes in `data.utils` as this notebook runs. As far as I know, it's magic."
   ]
  },
  {
   "cell_type": "code",
   "execution_count": 1,
   "metadata": {},
   "outputs": [],
   "source": [
    "%reload_ext autoreload\n",
    "%autoreload 2"
   ]
  },
  {
   "cell_type": "markdown",
   "metadata": {},
   "source": [
    "### First, I will read the csv data into a column-oriented table, so I can later isolate the two columns I am interested in (`hours_online_social` and `difficulty`)."
   ]
  },
  {
   "cell_type": "code",
   "execution_count": 2,
   "metadata": {},
   "outputs": [],
   "source": [
    "from data_utils import read_csv_rows, columnar\n",
    "data_rows: list[dict[str, str]] = read_csv_rows('../../data/survey.csv')\n",
    "columns: dict[str, list[str]] = columnar(data_rows)"
   ]
  },
  {
   "cell_type": "markdown",
   "metadata": {},
   "source": [
    "### Next, I will select the `hours_online_social` column. The first five rows are shown below."
   ]
  },
  {
   "cell_type": "code",
   "execution_count": 3,
   "metadata": {},
   "outputs": [
    {
     "data": {
      "text/plain": [
       "{'hours_online_social': ['3 to 5 hours',\n",
       "  '5 to 10 hours',\n",
       "  '3 to 5 hours',\n",
       "  '5 to 10 hours',\n",
       "  '3 to 5 hours']}"
      ]
     },
     "execution_count": 3,
     "metadata": {},
     "output_type": "execute_result"
    }
   ],
   "source": [
    "from data_utils import head, select\n",
    "hours_subset: dict[str, list[str]] = select(columns, [\"hours_online_social\"])\n",
    "head(hours_subset, 5)"
   ]
  },
  {
   "cell_type": "markdown",
   "metadata": {},
   "source": [
    "### Just like in the cell above, I will now select the `difficulty` column and display the first five rows."
   ]
  },
  {
   "cell_type": "code",
   "execution_count": 4,
   "metadata": {},
   "outputs": [
    {
     "data": {
      "text/plain": [
       "{'difficulty': ['5', '3', '5', '6', '4']}"
      ]
     },
     "execution_count": 4,
     "metadata": {},
     "output_type": "execute_result"
    }
   ],
   "source": [
    "from data_utils import head, select\n",
    "dif_subset: dict[str, list[str]] = select(columns, [\"difficulty\"])\n",
    "head(dif_subset, 5)"
   ]
  },
  {
   "cell_type": "markdown",
   "metadata": {},
   "source": [
    "### Next, I will count the number of students that chose each option for `hours_online_social`."
   ]
  },
  {
   "cell_type": "code",
   "execution_count": 5,
   "metadata": {},
   "outputs": [
    {
     "name": "stdout",
     "output_type": "stream",
     "text": [
      "{'3 to 5 hours': 297, '5 to 10 hours': 117, '0 to 2 hours': 129, '10+ hours': 23, 'None': 1, '': 6}\n"
     ]
    }
   ],
   "source": [
    "from data_utils import count\n",
    "subset: dict[str, list[str]] = select(columns, [\"hours_online_social\"])\n",
    "social_hours_count: dict[str, int] = count(subset[\"hours_online_social\"])\n",
    "print(social_hours_count)\n"
   ]
  },
  {
   "cell_type": "markdown",
   "metadata": {},
   "source": [
    "### These totals show that most students spend `3-5` hours per day using technology for personal use. Many other students fall in the `0-2` and `5-10` categories, but the `10+` and `None` categories are relatively empty."
   ]
  },
  {
   "cell_type": "markdown",
   "metadata": {},
   "source": [
    "### The next cell will count up the totals for each choice in `difficulty`. "
   ]
  },
  {
   "cell_type": "code",
   "execution_count": 6,
   "metadata": {},
   "outputs": [
    {
     "name": "stdout",
     "output_type": "stream",
     "text": [
      "{'5': 158, '3': 54, '6': 112, '4': 120, '7': 86, '2': 32, '1': 11}\n"
     ]
    }
   ],
   "source": [
    "from data_utils import count\n",
    "subset: dict[str, list[str]] = select(columns, [\"difficulty\"])\n",
    "difficulty_count: dict[str, int] = count(subset[\"difficulty\"])\n",
    "print(difficulty_count)"
   ]
  },
  {
   "cell_type": "markdown",
   "metadata": {},
   "source": [
    "### Now, I will create a mask for difficulty ratings >= 5 which signifies a rating harder than neutral."
   ]
  },
  {
   "cell_type": "code",
   "execution_count": 7,
   "metadata": {},
   "outputs": [
    {
     "name": "stdout",
     "output_type": "stream",
     "text": [
      "[True, False, True, True, False, True, True, True, True, True, True, True, True, True, True, True, False, True, True, True, False, False, False, False, True, True, False, False, False, False, True, False, False, True, True, True, True, True, True, True, True, True, True, True, False, True, False, False, True, True, True, True, False, True, True, True, False, False, False, True, False, True, True, False, True, True, False, False, True, False, False, False, True, True, True, True, False, True, True, False, False, True, False, True, True, True, False, True, True, True, True, True, True, True, False, True, False, False, True, True, False, False, False, True, False, True, True, True, True, False, False, False, True, True, False, True, True, False, False, True, False, True, True, True, False, False, True, True, True, True, True, False, True, False, False, False, True, False, False, False, False, False, False, False, False, True, False, False, True, False, True, True, True, False, False, False, False, False, False, False, False, False, True, True, False, False, False, False, False, False, False, False, False, False, False, False, False, False, True, False, True, False, False, True, True, False, False, False, False, False, True, False, False, False, False, True, False, True, True, True, False, False, True, False, False, False, False, True, False, False, False, False, False, False, True, True, True, False, False, True, False, False, False, True, True, True, False, True, False, False, True, False, False, False, True, False, True, True, False, False, True, True, False, False, True, True, True, False, True, False, True, True, True, False, False, False, False, True, False, True, True, True, False, False, False, True, True, False, True, True, True, False, True, True, True, True, False, True, True, True, True, False, True, True, True, False, True, True, False, False, False, True, True, True, True, True, True, True, True, False, True, True, True, True, True, False, True, True, True, True, True, True, True, True, True, False, True, False, True, False, False, True, False, True, False, False, True, False, True, False, False, False, True, False, True, True, True, True, True, True, True, True, True, True, True, True, False, False, True, True, False, True, True, True, True, False, True, False, False, True, True, True, True, True, True, False, False, True, False, True, False, False, False, True, True, False, False, False, False, True, True, True, True, True, False, True, True, True, False, False, False, False, False, True, True, False, True, True, True, True, True, True, True, True, False, True, True, True, True, True, True, True, False, False, True, True, True, True, True, True, False, False, False, True, True, True, False, True, False, True, True, True, True, False, False, True, False, True, True, True, False, True, False, True, True, True, True, True, True, True, True, True, True, True, False, True, True, True, True, True, True, True, True, True, True, True, False, True, True, True, False, True, True, True, True, True, False, False, True, True, True, True, True, True, True, True, True, True, True, True, True, True, True, True, True, True, True, True, True, True, False, True, True, True, True, False, False, True, True, True, True, True, True, True, True, True, False, True, True, True, True, True, True, True, True, True, False, True, False, True, True, True, False, True, True, True, True, False, True, False, True, True, False, True, True, False, True, False, True, True, True, True, True, True, True, True, True, True, True, False, True, True, True, True, True, False, True, True, True, True, False, False, False]\n"
     ]
    }
   ],
   "source": [
    "from data_utils import greater_than\n",
    "over_four_mask: list[bool] = greater_than(columns[\"difficulty\"], 4)\n",
    "print(over_four_mask)"
   ]
  },
  {
   "cell_type": "markdown",
   "metadata": {},
   "source": [
    "### Next, I will return the `True` values like we learned in lecture."
   ]
  },
  {
   "cell_type": "code",
   "execution_count": 8,
   "metadata": {},
   "outputs": [
    {
     "name": "stdout",
     "output_type": "stream",
     "text": [
      "['3 to 5 hours', '3 to 5 hours', '5 to 10 hours', '0 to 2 hours', '5 to 10 hours', '3 to 5 hours', '5 to 10 hours', '5 to 10 hours', '3 to 5 hours', '5 to 10 hours', '5 to 10 hours', '5 to 10 hours', '5 to 10 hours', '3 to 5 hours', '3 to 5 hours', '3 to 5 hours', '5 to 10 hours', '3 to 5 hours', '5 to 10 hours', '5 to 10 hours', '5 to 10 hours', '0 to 2 hours', '3 to 5 hours', '3 to 5 hours', '3 to 5 hours', '3 to 5 hours', 'None', '0 to 2 hours', '3 to 5 hours', '3 to 5 hours', '0 to 2 hours', '3 to 5 hours', '3 to 5 hours', '3 to 5 hours', '3 to 5 hours', '5 to 10 hours', '10+ hours', '0 to 2 hours', '0 to 2 hours', '3 to 5 hours', '3 to 5 hours', '5 to 10 hours', '3 to 5 hours', '3 to 5 hours', '0 to 2 hours', '0 to 2 hours', '3 to 5 hours', '5 to 10 hours', '3 to 5 hours', '3 to 5 hours', '3 to 5 hours', '3 to 5 hours', '3 to 5 hours', '0 to 2 hours', '0 to 2 hours', '5 to 10 hours', '3 to 5 hours', '3 to 5 hours', '3 to 5 hours', '3 to 5 hours', '3 to 5 hours', '3 to 5 hours', '5 to 10 hours', '3 to 5 hours', '0 to 2 hours', '0 to 2 hours', '3 to 5 hours', '5 to 10 hours', '3 to 5 hours', '3 to 5 hours', '3 to 5 hours', '0 to 2 hours', '5 to 10 hours', '3 to 5 hours', '0 to 2 hours', '0 to 2 hours', '0 to 2 hours', '3 to 5 hours', '0 to 2 hours', '5 to 10 hours', '3 to 5 hours', '3 to 5 hours', '5 to 10 hours', '10+ hours', '3 to 5 hours', '10+ hours', '0 to 2 hours', '3 to 5 hours', '3 to 5 hours', '0 to 2 hours', '5 to 10 hours', '5 to 10 hours', '5 to 10 hours', '3 to 5 hours', '3 to 5 hours', '3 to 5 hours', '5 to 10 hours', '0 to 2 hours', '3 to 5 hours', '10+ hours', '5 to 10 hours', '0 to 2 hours', '10+ hours', '0 to 2 hours', '5 to 10 hours', '3 to 5 hours', '3 to 5 hours', '5 to 10 hours', '3 to 5 hours', '5 to 10 hours', '10+ hours', '5 to 10 hours', '10+ hours', '3 to 5 hours', '0 to 2 hours', '3 to 5 hours', '10+ hours', '3 to 5 hours', '3 to 5 hours', '0 to 2 hours', '0 to 2 hours', '0 to 2 hours', '0 to 2 hours', '0 to 2 hours', '5 to 10 hours', '5 to 10 hours', '5 to 10 hours', '0 to 2 hours', '5 to 10 hours', '3 to 5 hours', '3 to 5 hours', '3 to 5 hours', '3 to 5 hours', '0 to 2 hours', '3 to 5 hours', '0 to 2 hours', '10+ hours', '0 to 2 hours', '3 to 5 hours', '3 to 5 hours', '0 to 2 hours', '3 to 5 hours', '3 to 5 hours', '0 to 2 hours', '3 to 5 hours', '5 to 10 hours', '3 to 5 hours', '3 to 5 hours', '3 to 5 hours', '0 to 2 hours', '3 to 5 hours', '3 to 5 hours', '0 to 2 hours', '3 to 5 hours', '5 to 10 hours', '0 to 2 hours', '3 to 5 hours', '5 to 10 hours', '3 to 5 hours', '0 to 2 hours', '3 to 5 hours', '3 to 5 hours', '0 to 2 hours', '3 to 5 hours', '0 to 2 hours', '3 to 5 hours', '5 to 10 hours', '3 to 5 hours', '3 to 5 hours', '3 to 5 hours', '3 to 5 hours', '5 to 10 hours', '5 to 10 hours', '5 to 10 hours', '5 to 10 hours', '5 to 10 hours', '3 to 5 hours', '5 to 10 hours', '3 to 5 hours', '3 to 5 hours', '3 to 5 hours', '5 to 10 hours', '5 to 10 hours', '5 to 10 hours', '3 to 5 hours', '5 to 10 hours', '0 to 2 hours', '0 to 2 hours', '3 to 5 hours', '3 to 5 hours', '3 to 5 hours', '5 to 10 hours', '5 to 10 hours', '10+ hours', '0 to 2 hours', '3 to 5 hours', '0 to 2 hours', '3 to 5 hours', '5 to 10 hours', '5 to 10 hours', '0 to 2 hours', '3 to 5 hours', '0 to 2 hours', '3 to 5 hours', '0 to 2 hours', '3 to 5 hours', '5 to 10 hours', '3 to 5 hours', '3 to 5 hours', '3 to 5 hours', '0 to 2 hours', '0 to 2 hours', '0 to 2 hours', '3 to 5 hours', '5 to 10 hours', '3 to 5 hours', '0 to 2 hours', '0 to 2 hours', '10+ hours', '10+ hours', '3 to 5 hours', '5 to 10 hours', '3 to 5 hours', '0 to 2 hours', '0 to 2 hours', '0 to 2 hours', '3 to 5 hours', '0 to 2 hours', '3 to 5 hours', '0 to 2 hours', '3 to 5 hours', '3 to 5 hours', '3 to 5 hours', '0 to 2 hours', '3 to 5 hours', '3 to 5 hours', '5 to 10 hours', '3 to 5 hours', '3 to 5 hours', '3 to 5 hours', '3 to 5 hours', '3 to 5 hours', '3 to 5 hours', '3 to 5 hours', '0 to 2 hours', '5 to 10 hours', '3 to 5 hours', '3 to 5 hours', '0 to 2 hours', '3 to 5 hours', '0 to 2 hours', '0 to 2 hours', '3 to 5 hours', '3 to 5 hours', '5 to 10 hours', '3 to 5 hours', '3 to 5 hours', '3 to 5 hours', '5 to 10 hours', '0 to 2 hours', '0 to 2 hours', '0 to 2 hours', '5 to 10 hours', '0 to 2 hours', '5 to 10 hours', '5 to 10 hours', '3 to 5 hours', '3 to 5 hours', '5 to 10 hours', '3 to 5 hours', '3 to 5 hours', '3 to 5 hours', '3 to 5 hours', '0 to 2 hours', '3 to 5 hours', '3 to 5 hours', '3 to 5 hours', '3 to 5 hours', '5 to 10 hours', '3 to 5 hours', '0 to 2 hours', '5 to 10 hours', '5 to 10 hours', '3 to 5 hours', '3 to 5 hours', '10+ hours', '3 to 5 hours', '3 to 5 hours', '5 to 10 hours', '3 to 5 hours', '3 to 5 hours', '5 to 10 hours', '3 to 5 hours', '3 to 5 hours', '3 to 5 hours', '3 to 5 hours', '0 to 2 hours', '3 to 5 hours', '3 to 5 hours', '3 to 5 hours', '0 to 2 hours', '0 to 2 hours', '3 to 5 hours', '3 to 5 hours', '3 to 5 hours', '3 to 5 hours', '3 to 5 hours', '3 to 5 hours', '3 to 5 hours', '3 to 5 hours', '5 to 10 hours', '3 to 5 hours', '3 to 5 hours', '3 to 5 hours', '3 to 5 hours', '3 to 5 hours', '3 to 5 hours', '5 to 10 hours', '0 to 2 hours', '5 to 10 hours', '3 to 5 hours', '3 to 5 hours', '0 to 2 hours', '3 to 5 hours', '0 to 2 hours', '0 to 2 hours', '0 to 2 hours', '3 to 5 hours', '0 to 2 hours', '3 to 5 hours', '3 to 5 hours', '3 to 5 hours', '0 to 2 hours', '3 to 5 hours', '3 to 5 hours', '3 to 5 hours', '3 to 5 hours', '3 to 5 hours', '5 to 10 hours', '3 to 5 hours', '0 to 2 hours', '0 to 2 hours', '3 to 5 hours', '3 to 5 hours', '5 to 10 hours', '3 to 5 hours', '5 to 10 hours', '3 to 5 hours', '3 to 5 hours', '3 to 5 hours', '0 to 2 hours', '3 to 5 hours', '3 to 5 hours', '0 to 2 hours', '3 to 5 hours', '3 to 5 hours']\n"
     ]
    }
   ],
   "source": [
    "from data_utils import masked\n",
    "over_four: list[str] = masked(columns[\"hours_online_social\"], over_four_mask)\n",
    "print(over_four)"
   ]
  },
  {
   "cell_type": "markdown",
   "metadata": {},
   "source": [
    "### Next, I will count the totals of the cell above."
   ]
  },
  {
   "cell_type": "code",
   "execution_count": 9,
   "metadata": {},
   "outputs": [
    {
     "name": "stdout",
     "output_type": "stream",
     "text": [
      "{'3 to 5 hours': 186, '5 to 10 hours': 74, '0 to 2 hours': 82, 'None': 1, '10+ hours': 13}\n"
     ]
    }
   ],
   "source": [
    "from data_utils import count\n",
    "comp_is_hard: dict[str, int] = count(over_four)\n",
    "print(comp_is_hard)"
   ]
  },
  {
   "cell_type": "markdown",
   "metadata": {},
   "source": [
    "### Now, I will complete the same sequence of creating a mask, filtering the `True` values, and counting the totals for difficulty ratings of <= 3."
   ]
  },
  {
   "cell_type": "code",
   "execution_count": 10,
   "metadata": {},
   "outputs": [
    {
     "name": "stdout",
     "output_type": "stream",
     "text": [
      "{'5 to 10 hours': 23, '3 to 5 hours': 53, '10+ hours': 3, '0 to 2 hours': 14, '': 4}\n"
     ]
    }
   ],
   "source": [
    "from data_utils import less_than, masked, count\n",
    "under_four_mask: list[bool] = less_than(columns[\"difficulty\"], 4)\n",
    "under_four: list[str] = masked(columns[\"hours_online_social\"], under_four_mask)\n",
    "comp_is_easy: dict[str, int] = count(under_four)\n",
    "print(comp_is_easy)"
   ]
  },
  {
   "cell_type": "markdown",
   "metadata": {},
   "source": [
    "### In the next cell, I will find the percentage of total students for both the hard and easy groups."
   ]
  },
  {
   "cell_type": "code",
   "execution_count": 11,
   "metadata": {},
   "outputs": [
    {
     "name": "stdout",
     "output_type": "stream",
     "text": [
      "Ratings > 4 (hard): {'3 to 5 hours': '32.46%', '5 to 10 hours': '12.91%', '0 to 2 hours': '14.31%', 'None': '0.17%', '10+ hours': '2.27%'}\n",
      "Ratings < 4 (easy): {'5 to 10 hours': '4.01%', '3 to 5 hours': '9.25%', '10+ hours': '0.52%', '0 to 2 hours': '2.44%', '': '0.7%'}\n"
     ]
    }
   ],
   "source": [
    "from data_utils import percentages\n",
    "print(f\"Ratings > 4 (hard): {percentages(comp_is_hard)}\")\n",
    "print(f\"Ratings < 4 (easy): {percentages(comp_is_easy)}\")"
   ]
  },
  {
   "cell_type": "markdown",
   "metadata": {},
   "source": [
    "### The next few cells are my best attempt to represent the `hard` and `easy` dictionaries shown above as bar plots."
   ]
  },
  {
   "cell_type": "code",
   "execution_count": 12,
   "metadata": {},
   "outputs": [],
   "source": [
    "import seaborn"
   ]
  },
  {
   "cell_type": "markdown",
   "metadata": {},
   "source": [
    "### Here is the `hard` group:"
   ]
  },
  {
   "cell_type": "code",
   "execution_count": 13,
   "metadata": {},
   "outputs": [
    {
     "data": {
      "text/plain": [
       "<AxesSubplot:>"
      ]
     },
     "execution_count": 13,
     "metadata": {},
     "output_type": "execute_result"
    },
    {
     "data": {
      "image/png": "[encoded data removed]",
      "text/plain": [
       "<Figure size 432x288 with 1 Axes>"
      ]
     },
     "metadata": {
      "needs_background": "light"
     },
     "output_type": "display_data"
    }
   ],
   "source": [
    "seaborn.barplot(x=[\"None\", \"0 to 2 hours\", \"3 to 5 hours\", \"5 to 10 hours\", \"10+ hours\"], y=[0.17, 14.31, 32.46, 12.91, 2.27])"
   ]
  },
  {
   "cell_type": "markdown",
   "metadata": {},
   "source": [
    "### This one is the `easy` group."
   ]
  },
  {
   "cell_type": "code",
   "execution_count": 14,
   "metadata": {},
   "outputs": [
    {
     "data": {
      "text/plain": [
       "<AxesSubplot:>"
      ]
     },
     "execution_count": 14,
     "metadata": {},
     "output_type": "execute_result"
    },
    {
     "data": {
      "image/png": "[encoded data removed]",
      "text/plain": [
       "<Figure size 432x288 with 1 Axes>"
      ]
     },
     "metadata": {
      "needs_background": "light"
     },
     "output_type": "display_data"
    }
   ],
   "source": [
    "seaborn.barplot(x=[\"0 to 2 hours\", \"3 to 5 hours\", \"5 to 10 hours\", \"10+ hours\"], y=[2.44, 9.25, 4.01, .52])"
   ]
  },
  {
   "cell_type": "markdown",
   "metadata": {},
   "source": [
    "## Ultimately, I do not believe these data support my hypothesis that students who report more hours spent using technology for personal use are more likely to find COMP110 difficult. Students in every column in the `hours_online_social` table skew toward the > 4 `difficulty` section. Although approximately 60% of the class rated COMP110 as 5 or higher in difficulty, there is no indication that more time spent on social media correlates with higher difficulty ratings. "
   ]
  }
 ],
 "metadata": {
  "interpreter": {
   "hash": "aee8b7b246df8f9039afb4144a1f6fd8d2ca17a180786b69acc140d282b71a49"
  },
  "kernelspec": {
   "display_name": "Python 3.9.6 64-bit",
   "language": "python",
   "name": "python3"
  },
  "language_info": {
   "codemirror_mode": {
    "name": "ipython",
    "version": 3
   },
   "file_extension": ".py",
   "mimetype": "text/x-python",
   "name": "python",
   "nbconvert_exporter": "python",
   "pygments_lexer": "ipython3",
   "version": "3.9.6"
  },
  "orig_nbformat": 4
 },
 "nbformat": 4,
 "nbformat_minor": 2
}
